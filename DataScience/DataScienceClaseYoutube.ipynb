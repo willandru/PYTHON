{
 "cells": [
  {
   "cell_type": "code",
   "execution_count": 2,
   "id": "92b6caf2",
   "metadata": {},
   "outputs": [
    {
     "data": {
      "text/plain": [
       "6"
      ]
     },
     "execution_count": 2,
     "metadata": {},
     "output_type": "execute_result"
    }
   ],
   "source": [
    "2+2\n",
    "2*3"
   ]
  },
  {
   "cell_type": "code",
   "execution_count": 3,
   "id": "172e4474",
   "metadata": {},
   "outputs": [
    {
     "name": "stdout",
     "output_type": "stream",
     "text": [
      "87\n"
     ]
    }
   ],
   "source": [
    "print(65+22)"
   ]
  },
  {
   "cell_type": "code",
   "execution_count": null,
   "id": "5f905815",
   "metadata": {},
   "outputs": [],
   "source": []
  },
  {
   "cell_type": "markdown",
   "id": "fc07adeb",
   "metadata": {},
   "source": [
    "# Titulillo Perron"
   ]
  },
  {
   "cell_type": "code",
   "execution_count": 9,
   "id": "751cb26a",
   "metadata": {},
   "outputs": [],
   "source": [
    "W=99"
   ]
  },
  {
   "cell_type": "code",
   "execution_count": 10,
   "id": "42a30d1f",
   "metadata": {},
   "outputs": [
    {
     "data": {
      "text/plain": [
       "99"
      ]
     },
     "execution_count": 10,
     "metadata": {},
     "output_type": "execute_result"
    }
   ],
   "source": [
    "W"
   ]
  },
  {
   "cell_type": "markdown",
   "id": "f57269f0",
   "metadata": {},
   "source": [
    "# Instalaciones necesarias\n",
    "## Jupyter\n",
    "\n",
    "## Paquetes: Matplotlib, Pandas, Sklearn, Numpy"
   ]
  },
  {
   "cell_type": "markdown",
   "id": "ef46bcd1",
   "metadata": {},
   "source": [
    "# Historia:\n",
    "\n",
    "## ES un leguaje que tiene ya 30 años de adad. Administrado pór Python Sftware Foundation\n",
    "\n",
    "## ¿Qué es?: Es un lenguaje de programación de alto nivel , de proposito general, open source, interpretado : Cuando escribimos el codigo de python, el computador debe primero interpretar o traducir a lenguaje del computador. ORIENTADO A OBJETOS, Dinamicamente y fuiertemente tipado, conscico, con granc comunidad yt gran cantidad de modulos y paquetes\n"
   ]
  },
  {
   "cell_type": "markdown",
   "id": "4eba8ccc",
   "metadata": {},
   "source": [
    "# IDES:\n",
    "\n",
    "## Todos son muy diferentes\n",
    "\n",
    "## vscode, spider , eclipse, notebook"
   ]
  },
  {
   "cell_type": "markdown",
   "id": "e2dbbb50",
   "metadata": {},
   "source": [
    "## ANACONDA: Gestor de paquetes\n",
    "\n",
    "# Instalacion de paquetes:\n",
    "## pip install NOMBRE_PAQUETE\n",
    "\n",
    "# Instalando con CONDA\n",
    "## conda install NOMBRE_PAQUETE\n"
   ]
  },
  {
   "cell_type": "markdown",
   "id": "741ad8e2",
   "metadata": {},
   "source": [
    "# INTRODUCCION A PYTHON"
   ]
  },
  {
   "cell_type": "code",
   "execution_count": 13,
   "id": "7c7a83e4",
   "metadata": {},
   "outputs": [],
   "source": [
    "entero= 34-24 #Un comentario\n",
    "cadena=\"HOla\" # Otro comentario\n",
    "decimal= 3.45"
   ]
  },
  {
   "cell_type": "code",
   "execution_count": 14,
   "id": "95a68c96",
   "metadata": {},
   "outputs": [],
   "source": [
    "if decimal == 2.45 or cadena == \"HOla\":\n",
    "    entero=entero+1\n",
    "    cadena= cadena + \"Mundo\" \n",
    "    "
   ]
  },
  {
   "cell_type": "code",
   "execution_count": 15,
   "id": "b1d33487",
   "metadata": {},
   "outputs": [
    {
     "name": "stdout",
     "output_type": "stream",
     "text": [
      "11\n",
      "HOlaMundo\n"
     ]
    }
   ],
   "source": [
    "print(entero)\n",
    "print(cadena)"
   ]
  },
  {
   "cell_type": "markdown",
   "id": "aac6024e",
   "metadata": {},
   "source": [
    "## Ejemplo 2"
   ]
  },
  {
   "cell_type": "code",
   "execution_count": 21,
   "id": "4e5a7d1f",
   "metadata": {},
   "outputs": [
    {
     "name": "stdout",
     "output_type": "stream",
     "text": [
      "Soy una asignacion muy larga\n"
     ]
    }
   ],
   "source": [
    "var1= 10\n",
    "var2 = \"Soy una asignacion \"+\\\n",
    "\"muy larga\"\n",
    "\n",
    "print (var2)"
   ]
  },
  {
   "cell_type": "code",
   "execution_count": 19,
   "id": "9b2f2f2f",
   "metadata": {},
   "outputs": [
    {
     "name": "stdout",
     "output_type": "stream",
     "text": [
      "Ya no lo soy\n"
     ]
    }
   ],
   "source": [
    "if var1 == 10:\n",
    "    var1=15\n",
    "    var2= \"Ya no lo soy\"\n",
    "print (var2)"
   ]
  },
  {
   "cell_type": "code",
   "execution_count": null,
   "id": "be8ce753",
   "metadata": {},
   "outputs": [],
   "source": []
  },
  {
   "cell_type": "code",
   "execution_count": null,
   "id": "3d019a39",
   "metadata": {},
   "outputs": [],
   "source": []
  },
  {
   "cell_type": "code",
   "execution_count": null,
   "id": "39412e2b",
   "metadata": {},
   "outputs": [],
   "source": []
  }
 ],
 "metadata": {
  "kernelspec": {
   "display_name": "Python 3 (ipykernel)",
   "language": "python",
   "name": "python3"
  },
  "language_info": {
   "codemirror_mode": {
    "name": "ipython",
    "version": 3
   },
   "file_extension": ".py",
   "mimetype": "text/x-python",
   "name": "python",
   "nbconvert_exporter": "python",
   "pygments_lexer": "ipython3",
   "version": "3.9.7"
  }
 },
 "nbformat": 4,
 "nbformat_minor": 5
}
