{
 "cells": [
  {
   "cell_type": "markdown",
   "id": "694c8160",
   "metadata": {},
   "source": [
    "#                      NUMPY"
   ]
  },
  {
   "cell_type": "markdown",
   "id": "e084ae0a",
   "metadata": {},
   "source": [
    "# BASICS"
   ]
  },
  {
   "cell_type": "code",
   "execution_count": 1,
   "id": "38d4102e",
   "metadata": {},
   "outputs": [],
   "source": [
    "import numpy as np"
   ]
  },
  {
   "cell_type": "markdown",
   "id": "c2dfd974",
   "metadata": {},
   "source": [
    "## How To Initialise an Array:"
   ]
  },
  {
   "cell_type": "code",
   "execution_count": 2,
   "id": "66b0c013",
   "metadata": {},
   "outputs": [],
   "source": [
    "a = np.array([1,2,3])"
   ]
  },
  {
   "cell_type": "code",
   "execution_count": 3,
   "id": "bc70fc2f",
   "metadata": {},
   "outputs": [
    {
     "name": "stdout",
     "output_type": "stream",
     "text": [
      "[1 2 3]\n"
     ]
    }
   ],
   "source": [
    "print (a)"
   ]
  },
  {
   "cell_type": "code",
   "execution_count": 4,
   "id": "e7284813",
   "metadata": {},
   "outputs": [
    {
     "name": "stdout",
     "output_type": "stream",
     "text": [
      "[[9. 8. 7.]\n",
      " [6. 5. 4.]]\n"
     ]
    }
   ],
   "source": [
    "b= np.array([[9.0, 8.0, 7.0],[6.0, 5, 4.0]])\n",
    "print(b)"
   ]
  },
  {
   "cell_type": "markdown",
   "id": "ab57c0f9",
   "metadata": {},
   "source": [
    "## How to Get the Dimension of the Array:"
   ]
  },
  {
   "cell_type": "code",
   "execution_count": 8,
   "id": "2c0da32b",
   "metadata": {},
   "outputs": [
    {
     "data": {
      "text/plain": [
       "1"
      ]
     },
     "execution_count": 8,
     "metadata": {},
     "output_type": "execute_result"
    }
   ],
   "source": [
    "a.ndim"
   ]
  },
  {
   "cell_type": "code",
   "execution_count": 9,
   "id": "c7a16526",
   "metadata": {},
   "outputs": [
    {
     "data": {
      "text/plain": [
       "2"
      ]
     },
     "execution_count": 9,
     "metadata": {},
     "output_type": "execute_result"
    }
   ],
   "source": [
    "b.ndim"
   ]
  },
  {
   "cell_type": "markdown",
   "id": "03163d3a",
   "metadata": {},
   "source": [
    "## Get the Shape of the Array: \n"
   ]
  },
  {
   "cell_type": "code",
   "execution_count": 10,
   "id": "8ab1b65f",
   "metadata": {},
   "outputs": [
    {
     "data": {
      "text/plain": [
       "(3,)"
      ]
     },
     "execution_count": 10,
     "metadata": {},
     "output_type": "execute_result"
    }
   ],
   "source": [
    "a.shape"
   ]
  },
  {
   "cell_type": "code",
   "execution_count": 11,
   "id": "44b0d4aa",
   "metadata": {},
   "outputs": [
    {
     "data": {
      "text/plain": [
       "(2, 3)"
      ]
     },
     "execution_count": 11,
     "metadata": {},
     "output_type": "execute_result"
    }
   ],
   "source": [
    "b.shape"
   ]
  },
  {
   "cell_type": "markdown",
   "id": "ad68e808",
   "metadata": {},
   "source": [
    "## Get the Type "
   ]
  },
  {
   "cell_type": "code",
   "execution_count": 12,
   "id": "3b3c4917",
   "metadata": {},
   "outputs": [
    {
     "data": {
      "text/plain": [
       "dtype('int64')"
      ]
     },
     "execution_count": 12,
     "metadata": {},
     "output_type": "execute_result"
    }
   ],
   "source": [
    "a.dtype"
   ]
  },
  {
   "cell_type": "code",
   "execution_count": 13,
   "id": "23ebf6c1",
   "metadata": {},
   "outputs": [
    {
     "data": {
      "text/plain": [
       "dtype('float64')"
      ]
     },
     "execution_count": 13,
     "metadata": {},
     "output_type": "execute_result"
    }
   ],
   "source": [
    "b.dtype"
   ]
  },
  {
   "cell_type": "code",
   "execution_count": 16,
   "id": "2f15eb31",
   "metadata": {},
   "outputs": [
    {
     "data": {
      "text/plain": [
       "dtype('int16')"
      ]
     },
     "execution_count": 16,
     "metadata": {},
     "output_type": "execute_result"
    }
   ],
   "source": [
    "c= np.array([1,2,3], dtype='int16')\n",
    "c.dtype"
   ]
  },
  {
   "cell_type": "markdown",
   "id": "317cbef1",
   "metadata": {},
   "source": [
    "## Get the Item Size:"
   ]
  },
  {
   "cell_type": "code",
   "execution_count": 20,
   "id": "296838a6",
   "metadata": {},
   "outputs": [
    {
     "data": {
      "text/plain": [
       "8"
      ]
     },
     "execution_count": 20,
     "metadata": {},
     "output_type": "execute_result"
    }
   ],
   "source": [
    "a.itemsize"
   ]
  },
  {
   "cell_type": "code",
   "execution_count": 21,
   "id": "4f7d4596",
   "metadata": {},
   "outputs": [
    {
     "data": {
      "text/plain": [
       "8"
      ]
     },
     "execution_count": 21,
     "metadata": {},
     "output_type": "execute_result"
    }
   ],
   "source": [
    "b.itemsize"
   ]
  },
  {
   "cell_type": "code",
   "execution_count": 22,
   "id": "de423dea",
   "metadata": {},
   "outputs": [
    {
     "data": {
      "text/plain": [
       "2"
      ]
     },
     "execution_count": 22,
     "metadata": {},
     "output_type": "execute_result"
    }
   ],
   "source": [
    "c.itemsize"
   ]
  },
  {
   "cell_type": "markdown",
   "id": "f55eff40",
   "metadata": {},
   "source": [
    "## Get the Total Size:"
   ]
  },
  {
   "cell_type": "code",
   "execution_count": 26,
   "id": "2ea250d6",
   "metadata": {},
   "outputs": [
    {
     "data": {
      "text/plain": [
       "24"
      ]
     },
     "execution_count": 26,
     "metadata": {},
     "output_type": "execute_result"
    }
   ],
   "source": [
    "a.size * a.itemsize"
   ]
  },
  {
   "cell_type": "code",
   "execution_count": 27,
   "id": "2d0f228a",
   "metadata": {},
   "outputs": [
    {
     "data": {
      "text/plain": [
       "24"
      ]
     },
     "execution_count": 27,
     "metadata": {},
     "output_type": "execute_result"
    }
   ],
   "source": [
    "a.nbytes"
   ]
  },
  {
   "cell_type": "code",
   "execution_count": 28,
   "id": "3c3821fc",
   "metadata": {},
   "outputs": [
    {
     "data": {
      "text/plain": [
       "48"
      ]
     },
     "execution_count": 28,
     "metadata": {},
     "output_type": "execute_result"
    }
   ],
   "source": [
    "b.nbytes"
   ]
  },
  {
   "cell_type": "markdown",
   "id": "81e9cd34",
   "metadata": {},
   "source": [
    "# ACCESSING/ CHANGING SPECIFIC ELEMENTS, ROWS, COLUMNS, ETC"
   ]
  },
  {
   "cell_type": "code",
   "execution_count": 29,
   "id": "f8fb806b",
   "metadata": {},
   "outputs": [
    {
     "name": "stdout",
     "output_type": "stream",
     "text": [
      "[[ 1  2  3  4  5  6  7]\n",
      " [ 8  9 10 11 12 13 14]]\n"
     ]
    }
   ],
   "source": [
    "a= np.array([[1,2,3,4,5,6,7],[8,9,10,11,12,13,14]])\n",
    "print(a)"
   ]
  },
  {
   "cell_type": "markdown",
   "id": "f7cabf74",
   "metadata": {},
   "source": [
    "# Get  a specific Element"
   ]
  },
  {
   "cell_type": "code",
   "execution_count": 30,
   "id": "f420c1bc",
   "metadata": {},
   "outputs": [
    {
     "data": {
      "text/plain": [
       "13"
      ]
     },
     "execution_count": 30,
     "metadata": {},
     "output_type": "execute_result"
    }
   ],
   "source": [
    "a[1,5]"
   ]
  },
  {
   "cell_type": "code",
   "execution_count": 31,
   "id": "2975cce9",
   "metadata": {},
   "outputs": [
    {
     "data": {
      "text/plain": [
       "13"
      ]
     },
     "execution_count": 31,
     "metadata": {},
     "output_type": "execute_result"
    }
   ],
   "source": [
    "a[1,-2]"
   ]
  },
  {
   "cell_type": "markdown",
   "id": "4f37ed12",
   "metadata": {},
   "source": [
    "# Get a specific Row"
   ]
  },
  {
   "cell_type": "code",
   "execution_count": 32,
   "id": "35d63bf0",
   "metadata": {},
   "outputs": [
    {
     "data": {
      "text/plain": [
       "array([1, 2, 3, 4, 5, 6, 7])"
      ]
     },
     "execution_count": 32,
     "metadata": {},
     "output_type": "execute_result"
    }
   ],
   "source": [
    "a[0,:]"
   ]
  },
  {
   "cell_type": "markdown",
   "id": "13fffb5d",
   "metadata": {},
   "source": [
    "# Get a specific Column"
   ]
  },
  {
   "cell_type": "code",
   "execution_count": 34,
   "id": "1e0eef47",
   "metadata": {},
   "outputs": [
    {
     "data": {
      "text/plain": [
       "array([ 3, 10])"
      ]
     },
     "execution_count": 34,
     "metadata": {},
     "output_type": "execute_result"
    }
   ],
   "source": [
    "a[:,2]"
   ]
  },
  {
   "cell_type": "markdown",
   "id": "4cf3429a",
   "metadata": {},
   "source": [
    "# Get [start:end:step]"
   ]
  },
  {
   "cell_type": "code",
   "execution_count": 37,
   "id": "00bdbce5",
   "metadata": {},
   "outputs": [
    {
     "data": {
      "text/plain": [
       "array([2, 4, 6])"
      ]
     },
     "execution_count": 37,
     "metadata": {},
     "output_type": "execute_result"
    }
   ],
   "source": [
    "a[0, 1:7:2]"
   ]
  },
  {
   "cell_type": "code",
   "execution_count": 38,
   "id": "f6fb5a7d",
   "metadata": {},
   "outputs": [
    {
     "data": {
      "text/plain": [
       "array([1, 3, 5, 7])"
      ]
     },
     "execution_count": 38,
     "metadata": {},
     "output_type": "execute_result"
    }
   ],
   "source": [
    "a[0, 0:7:2]"
   ]
  },
  {
   "cell_type": "markdown",
   "id": "9b27b54a",
   "metadata": {},
   "source": [
    "# Change elements"
   ]
  },
  {
   "cell_type": "code",
   "execution_count": 40,
   "id": "4ba9535b",
   "metadata": {},
   "outputs": [
    {
     "name": "stdout",
     "output_type": "stream",
     "text": [
      "[[ 1  2  3  4  5  6  7]\n",
      " [ 8  9 10 11 12 99 14]]\n"
     ]
    }
   ],
   "source": [
    "a[1,5]=99\n",
    "print(a)"
   ]
  },
  {
   "cell_type": "code",
   "execution_count": 41,
   "id": "7418490e",
   "metadata": {},
   "outputs": [
    {
     "name": "stdout",
     "output_type": "stream",
     "text": [
      "[[ 1  2  1  4  5  6  7]\n",
      " [ 8  9  2 11 12 99 14]]\n"
     ]
    }
   ],
   "source": [
    "a[:,2]= [1,2]\n",
    "print(a)"
   ]
  },
  {
   "cell_type": "markdown",
   "id": "b0db1f30",
   "metadata": {},
   "source": [
    "# INITIALIZING DIFFERENT TYPES OF ARRAYS"
   ]
  },
  {
   "cell_type": "markdown",
   "id": "b33ff515",
   "metadata": {},
   "source": [
    "## All Zeros 0"
   ]
  },
  {
   "cell_type": "code",
   "execution_count": 42,
   "id": "0bc2a546",
   "metadata": {},
   "outputs": [
    {
     "name": "stdout",
     "output_type": "stream",
     "text": [
      "[0. 0. 0. 0. 0.]\n"
     ]
    }
   ],
   "source": [
    "a=np.zeros(5)\n",
    "print(a)"
   ]
  },
  {
   "cell_type": "code",
   "execution_count": 45,
   "id": "ca5c6925",
   "metadata": {},
   "outputs": [
    {
     "name": "stdout",
     "output_type": "stream",
     "text": [
      "[[0. 0. 0.]\n",
      " [0. 0. 0.]\n",
      " [0. 0. 0.]]\n"
     ]
    }
   ],
   "source": [
    "b=np.zeros((3,3))\n",
    "print(b)"
   ]
  },
  {
   "cell_type": "markdown",
   "id": "71f1f136",
   "metadata": {},
   "source": [
    "# All 1s"
   ]
  },
  {
   "cell_type": "code",
   "execution_count": 47,
   "id": "1750cc7d",
   "metadata": {},
   "outputs": [
    {
     "name": "stdout",
     "output_type": "stream",
     "text": [
      "[[[1 1]\n",
      "  [1 1]]\n",
      "\n",
      " [[1 1]\n",
      "  [1 1]]\n",
      "\n",
      " [[1 1]\n",
      "  [1 1]]]\n"
     ]
    }
   ],
   "source": [
    "a= np.ones((3,2,2), dtype='int32')\n",
    "print(a)"
   ]
  },
  {
   "cell_type": "markdown",
   "id": "f9e6b27f",
   "metadata": {},
   "source": [
    "# Initialize with any other number"
   ]
  },
  {
   "cell_type": "code",
   "execution_count": 49,
   "id": "062855b8",
   "metadata": {},
   "outputs": [
    {
     "data": {
      "text/plain": [
       "array([[89., 89.],\n",
       "       [89., 89.]], dtype=float32)"
      ]
     },
     "execution_count": 49,
     "metadata": {},
     "output_type": "execute_result"
    }
   ],
   "source": [
    "np.full((2,2), 89, dtype= 'float32')"
   ]
  },
  {
   "cell_type": "markdown",
   "id": "3d663cf7",
   "metadata": {},
   "source": [
    "# Initialize with Random Numbers"
   ]
  },
  {
   "cell_type": "code",
   "execution_count": 50,
   "id": "a7fa2fb8",
   "metadata": {},
   "outputs": [
    {
     "data": {
      "text/plain": [
       "array([[[0.53421454, 0.19851358],\n",
       "        [0.78309862, 0.98551695]],\n",
       "\n",
       "       [[0.13776424, 0.84516038],\n",
       "        [0.9035679 , 0.99440358]],\n",
       "\n",
       "       [[0.42364126, 0.01208855],\n",
       "        [0.55939667, 0.79457254]]])"
      ]
     },
     "execution_count": 50,
     "metadata": {},
     "output_type": "execute_result"
    }
   ],
   "source": [
    "np.random.rand(3,2,2)"
   ]
  },
  {
   "cell_type": "code",
   "execution_count": 55,
   "id": "37f07430",
   "metadata": {},
   "outputs": [
    {
     "data": {
      "text/plain": [
       "array([[[-3, -1],\n",
       "        [-5, -2]],\n",
       "\n",
       "       [[-1,  2],\n",
       "        [ 1,  2]],\n",
       "\n",
       "       [[-1,  2],\n",
       "        [ 3,  6]]])"
      ]
     },
     "execution_count": 55,
     "metadata": {},
     "output_type": "execute_result"
    }
   ],
   "source": [
    "np.random.randint(-5,7, size=(3,2,2))"
   ]
  },
  {
   "cell_type": "markdown",
   "id": "a65a87d7",
   "metadata": {},
   "source": [
    "# THE IDENTITY MATRIX"
   ]
  },
  {
   "cell_type": "code",
   "execution_count": 56,
   "id": "f34069fc",
   "metadata": {},
   "outputs": [
    {
     "data": {
      "text/plain": [
       "array([[1., 0., 0.],\n",
       "       [0., 1., 0.],\n",
       "       [0., 0., 1.]])"
      ]
     },
     "execution_count": 56,
     "metadata": {},
     "output_type": "execute_result"
    }
   ],
   "source": [
    "np.identity(3)"
   ]
  },
  {
   "cell_type": "code",
   "execution_count": 58,
   "id": "5ac20722",
   "metadata": {},
   "outputs": [
    {
     "name": "stdout",
     "output_type": "stream",
     "text": [
      "[1 1 1 2 2 2 3 3 3]\n"
     ]
    }
   ],
   "source": [
    "arr= np.array([1,2,3])\n",
    "r1= np.repeat(arr,3)\n",
    "print(r1)"
   ]
  },
  {
   "cell_type": "code",
   "execution_count": 62,
   "id": "2946aefd",
   "metadata": {},
   "outputs": [
    {
     "name": "stdout",
     "output_type": "stream",
     "text": [
      "[1 1 1 2 2 2 3 3 3]\n"
     ]
    }
   ],
   "source": [
    "arr= np.array([[1,2,3]])\n",
    "r1= np.repeat(arr,3, axis=0)\n",
    "print(r1)"
   ]
  },
  {
   "cell_type": "code",
   "execution_count": 67,
   "id": "0c4e2a02",
   "metadata": {},
   "outputs": [
    {
     "name": "stdout",
     "output_type": "stream",
     "text": [
      "[[1. 1. 1. 1. 1.]\n",
      " [1. 0. 0. 0. 1.]\n",
      " [1. 0. 9. 0. 1.]\n",
      " [1. 0. 0. 0. 1.]\n",
      " [1. 1. 1. 1. 1.]]\n"
     ]
    }
   ],
   "source": [
    "a= np.ones((5,5))\n",
    "a[1:4,1:4]=0\n",
    "a[2,2]=9\n",
    "print(a)"
   ]
  },
  {
   "cell_type": "markdown",
   "id": "ecbaef14",
   "metadata": {},
   "source": [
    "# BE CARFUL WHEN COPYING ARRAYS"
   ]
  },
  {
   "cell_type": "code",
   "execution_count": 68,
   "id": "33fcabc1",
   "metadata": {},
   "outputs": [],
   "source": [
    "A= np.array([1,2,3])\n",
    "B=A  # We are copyng the direction \n",
    "B[0]=99"
   ]
  },
  {
   "cell_type": "code",
   "execution_count": 69,
   "id": "5bdde972",
   "metadata": {},
   "outputs": [
    {
     "name": "stdout",
     "output_type": "stream",
     "text": [
      "[99  2  3]\n"
     ]
    }
   ],
   "source": [
    "print(A)"
   ]
  },
  {
   "cell_type": "code",
   "execution_count": 70,
   "id": "c9237b23",
   "metadata": {},
   "outputs": [
    {
     "name": "stdout",
     "output_type": "stream",
     "text": [
      "[99  2  3]\n"
     ]
    }
   ],
   "source": [
    "print(B)"
   ]
  },
  {
   "cell_type": "code",
   "execution_count": 72,
   "id": "d914382e",
   "metadata": {},
   "outputs": [
    {
     "name": "stdout",
     "output_type": "stream",
     "text": [
      "[89  2  3]\n"
     ]
    }
   ],
   "source": [
    "B= A.copy()\n",
    "B[0]=89\n",
    "print(B)"
   ]
  },
  {
   "cell_type": "code",
   "execution_count": 73,
   "id": "26cc583e",
   "metadata": {},
   "outputs": [
    {
     "name": "stdout",
     "output_type": "stream",
     "text": [
      "[99  2  3]\n"
     ]
    }
   ],
   "source": [
    "print(A)"
   ]
  }
 ],
 "metadata": {
  "kernelspec": {
   "display_name": "Python 3 (ipykernel)",
   "language": "python",
   "name": "python3"
  },
  "language_info": {
   "codemirror_mode": {
    "name": "ipython",
    "version": 3
   },
   "file_extension": ".py",
   "mimetype": "text/x-python",
   "name": "python",
   "nbconvert_exporter": "python",
   "pygments_lexer": "ipython3",
   "version": "3.9.7"
  }
 },
 "nbformat": 4,
 "nbformat_minor": 5
}
